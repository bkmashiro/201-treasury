{
 "cells": [
  {
   "cell_type": "code",
   "execution_count": 1,
   "metadata": {},
   "outputs": [],
   "source": [
    "import json\n",
    "from datetime import datetime\n",
    "\n",
    "def extract_messages(data):\n",
    "    \"\"\"\n",
    "    从JSON数据中提取纯文本消息\n",
    "    \"\"\"\n",
    "    messages = []\n",
    "\n",
    "    if isinstance(data, dict):  # 如果是单条消息\n",
    "        data = [data]\n",
    "    \n",
    "    for entry in data:\n",
    "        if \"text\" in entry:\n",
    "            text_field = entry[\"text\"]\n",
    "            if isinstance(text_field, list):  # 如果是列表\n",
    "                text = \"\".join(\n",
    "                    part[\"text\"] if isinstance(part, dict) else part\n",
    "                    for part in text_field\n",
    "                )\n",
    "            elif isinstance(text_field, str):  # 如果是纯字符串\n",
    "                text = text_field\n",
    "            else:\n",
    "                text = \"\"\n",
    "            messages.append({\n",
    "                \"text\": text,\n",
    "                \"time\": datetime.fromisoformat(entry[\"date\"]),\n",
    "                \"sender\": entry.get(\"from\", \"<unknown>\")\n",
    "            })\n",
    "    \n",
    "    return messages\n"
   ]
  },
  {
   "cell_type": "code",
   "execution_count": null,
   "metadata": {},
   "outputs": [],
   "source": [
    "# 加载JSON数据\n",
    "data = json.loads(open('result.json').read())[\"messages\"]\n",
    "# 提取消息文本\n",
    "messages = extract_messages(data)\n",
    "for i, message in enumerate(messages, 1):\n",
    "    print(f\"消息 {i}: {message}\")"
   ]
  },
  {
   "cell_type": "code",
   "execution_count": 3,
   "metadata": {},
   "outputs": [],
   "source": [
    "import re\n",
    "def match_pattern(text, pattern):\n",
    "  # 匹配正则表达式\n",
    "  match = re.match(pattern, text)\n",
    "  if match:\n",
    "      extracted_data = match.groupdict()  # 获取匹配的命名组\n",
    "      print(f\"ID: {extracted_data['id']}\")\n",
    "      print(f\"金额: {extracted_data['amount']} EUR\")\n",
    "      print(f\"项目: {extracted_data['project']}\")\n",
    "      \n",
    "      return {\n",
    "            \"id\": extracted_data[\"id\"],\n",
    "            \"amount\": extracted_data[\"amount\"],\n",
    "            \"project\": extracted_data[\"project\"],\n",
    "      }\n",
    "  else:\n",
    "      print(\"未匹配到数据\")\n",
    "      \n",
    "      return {}"
   ]
  },
  {
   "cell_type": "code",
   "execution_count": null,
   "metadata": {},
   "outputs": [],
   "source": [
    "pattern = r\"(?P<id>.+?) spent (?P<amount>\\d+(\\.\\d+)?) EUR on (?P<project>.+)\"\n",
    "\n",
    "records = [{**match_pattern(message[\"text\"], pattern), **message} for message in messages] \n",
    "\n",
    "records = [record for record in records if record.get(\"amount\")] "
   ]
  },
  {
   "cell_type": "code",
   "execution_count": null,
   "metadata": {},
   "outputs": [],
   "source": [
    "records"
   ]
  },
  {
   "cell_type": "code",
   "execution_count": 6,
   "metadata": {},
   "outputs": [],
   "source": [
    "import pandas as pd\n",
    "\n",
    "# 转换为 DataFrame\n",
    "df = pd.DataFrame(records)\n",
    "\n"
   ]
  },
  {
   "cell_type": "code",
   "execution_count": null,
   "metadata": {},
   "outputs": [],
   "source": [
    "df"
   ]
  },
  {
   "cell_type": "code",
   "execution_count": 8,
   "metadata": {},
   "outputs": [],
   "source": [
    "# 将 amount 转为浮点数类型\n",
    "df['amount'] = df['amount'].astype(float)\n",
    "\n",
    "# 统计每个 id 的总金额\n",
    "summary = df.groupby('id')['amount'].sum().reset_index()\n",
    "summary.rename(columns={'amount': 'total_amount'}, inplace=True)\n",
    "\n",
    "summary.to_excel('summary.xlsx', index=False)\n",
    "\n"
   ]
  },
  {
   "cell_type": "code",
   "execution_count": null,
   "metadata": {},
   "outputs": [],
   "source": [
    "df[[\"id\", \"amount\", \"project\", \"time\"]].to_excel('records.xlsx', index=False)"
   ]
  },
  {
   "cell_type": "code",
   "execution_count": 10,
   "metadata": {},
   "outputs": [],
   "source": [
    "# df[[\"id\", \"amount\", \"project\", \"time\"]].to_json('records.json', index=False)\n",
    "# convert time to yyyy-mm-dd hh:mm:ss\n",
    "\n",
    "df['time'] = df['time'].dt.strftime('%Y-%m-%d %H:%M:%S')\n",
    "\n",
    "df[[\"id\", \"amount\", \"project\", \"time\"]].to_json('records.json', index=False)"
   ]
  }
 ],
 "metadata": {
  "kernelspec": {
   "display_name": "base",
   "language": "python",
   "name": "python3"
  },
  "language_info": {
   "codemirror_mode": {
    "name": "ipython",
    "version": 3
   },
   "file_extension": ".py",
   "mimetype": "text/x-python",
   "name": "python",
   "nbconvert_exporter": "python",
   "pygments_lexer": "ipython3",
   "version": "3.10.12"
  }
 },
 "nbformat": 4,
 "nbformat_minor": 2
}
